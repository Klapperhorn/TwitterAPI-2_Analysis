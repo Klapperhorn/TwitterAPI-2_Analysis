{
 "cells": [
  {
   "cell_type": "code",
   "execution_count": 6,
   "id": "74e12fa7",
   "metadata": {},
   "outputs": [
    {
     "name": "stdout",
     "output_type": "stream",
     "text": [
      "The autoreload extension is already loaded. To reload it, use:\n",
      "  %reload_ext autoreload\n"
     ]
    }
   ],
   "source": [
    "import pandas as pd\n",
    "#import requests\n",
    "import json\n",
    "#import yaml\n",
    "import time\n",
    "import glob\n",
    "\n",
    "import datetime as dt\n",
    "from collections import Counter\n",
    "import matplotlib.pyplot as plt\n",
    "\n",
    "import numpy as np\n",
    "\n",
    "from ipywidgets import interactive, interact\n",
    "from IPython.display import Image\n",
    "import ipywidgets as widgets\n",
    "\n",
    "from myTwitterLibrary import imageScroll\n",
    "from myTwitterLibrary import Twitter_analysis as mta\n",
    "from myTwitterLibrary import myTwitterLibrary as mtl\n",
    "from myTwitterLibrary import nlp\n",
    "from myTwitterLibrary import analysis as analysis\n",
    "\n",
    "\n",
    "pd.set_option('display.max_colwidth', None)\n",
    "%load_ext autoreload\n",
    "%autoreload 2"
   ]
  },
  {
   "cell_type": "code",
   "execution_count": 7,
   "id": "8450463f",
   "metadata": {},
   "outputs": [],
   "source": [
    "df=pd.read_json(\"2023-05-05ChatGpt_all.json\")\n"
   ]
  },
  {
   "cell_type": "markdown",
   "id": "1eae2bea",
   "metadata": {},
   "source": [
    "# Start the exploration with a wordcloud or wordcount :)"
   ]
  },
  {
   "cell_type": "code",
   "execution_count": 8,
   "id": "854e6d9d",
   "metadata": {},
   "outputs": [
    {
     "data": {
      "application/vnd.jupyter.widget-view+json": {
       "model_id": "980c4906a65c497cbeeb7edc276739a0",
       "version_major": 2,
       "version_minor": 0
      },
      "text/plain": [
       "interactive(children=(Dropdown(description='column', index=1, options=('hashtags', 'NoStopwords'), value='NoSt…"
      ]
     },
     "metadata": {},
     "output_type": "display_data"
    }
   ],
   "source": [
    "@interact(column=[\"hashtags\",\"NoStopwords\"],Mostcommon=(5,200))\n",
    "def make_wordcloud(column=\"NoStopwords\",Mostcommon=20,Save_as=\"\"):\n",
    "    hashtags=[i.lower() for s in df[column].dropna() for i in s] # hashtags OR # no stopwords\n",
    "    analysis.make_wordcloud(hashtags,filename=Save_as,Mostcommon=Mostcommon)"
   ]
  },
  {
   "cell_type": "code",
   "execution_count": 10,
   "id": "20ddeef6",
   "metadata": {},
   "outputs": [
    {
     "data": {
      "application/vnd.jupyter.widget-view+json": {
       "model_id": "724c29d6ce944db58aa2261fb59f5351",
       "version_major": 2,
       "version_minor": 0
      },
      "text/plain": [
       "interactive(children=(Dropdown(description='column', options=('NoStopwords', 'hashtags', 'mentions', 'urls'), …"
      ]
     },
     "metadata": {},
     "output_type": "display_data"
    }
   ],
   "source": [
    "@widgets.interact(column=[\"NoStopwords\",\"hashtags\",\"mentions\",\"urls\"],n=(1,50))\n",
    "def mostCommon(column=\"NoStopwords\",n=10):\n",
    "    analysis.mostCommon(df,column=column,n=n)\n",
    "    "
   ]
  },
  {
   "cell_type": "markdown",
   "id": "194872dc",
   "metadata": {},
   "source": [
    "# Filter & discover popular Tweets"
   ]
  },
  {
   "cell_type": "code",
   "execution_count": 11,
   "id": "24f50c6f",
   "metadata": {},
   "outputs": [
    {
     "data": {
      "application/vnd.jupyter.widget-view+json": {
       "model_id": "943f53896ae54b2985fb21d5d73f728f",
       "version_major": 2,
       "version_minor": 0
      },
      "text/plain": [
       "interactive(children=(Checkbox(value=False, description='save'), IntSlider(value=5, description='n_tweets', ma…"
      ]
     },
     "metadata": {},
     "output_type": "display_data"
    }
   ],
   "source": [
    "@interact(n_tweets=(1,50),start=\"2012-11-01\",end=\"2023-03-30\",like_count=(0,100),replay_count=(0,100),retweet_count=(0,100),word_count=(1,df.word_count.max()), polarity=(-1,1,0.2),language=df.language.value_counts()[:5].index)\n",
    "def filter_df(save=False,n_tweets=5,start=\"2012-11-01\",end=\"2023-03-30\",like_count=30,replay_count=0,retweet_count=0,word_count=5,PolarityFilter=False,polarity=0,language=\"no filter\",Wordfilter=\"\", Userfilter=\"\"):\n",
    "    analysis.filter_df(df,save,n_tweets,start,end,like_count,replay_count,retweet_count,word_count,polarity,language,Wordfilter=Wordfilter,Userfilter=Userfilter, PolarityFilter=PolarityFilter)\n",
    "  "
   ]
  },
  {
   "cell_type": "markdown",
   "id": "edfba1ae",
   "metadata": {},
   "source": [
    "# Counting Users & Elements."
   ]
  },
  {
   "cell_type": "code",
   "execution_count": 12,
   "id": "7e2900c1",
   "metadata": {},
   "outputs": [
    {
     "data": {
      "application/vnd.jupyter.widget-view+json": {
       "model_id": "5fdd17bb3f0a489686d3c73f7637aa68",
       "version_major": 2,
       "version_minor": 0
      },
      "text/plain": [
       "interactive(children=(Dropdown(description='by_value', options=('like_count', 'retweet_count', 'reply_count', …"
      ]
     },
     "metadata": {},
     "output_type": "display_data"
    }
   ],
   "source": [
    "@interact(by_value=['like_count',\"retweet_count\",\"reply_count\",\"quote_count\",\"impression_count\",\"word_count\",\"letters_count\",\"polarity\"],n=(3,100),aggFunk=[\"mean\",\"sum\"])\n",
    "def most_popular_users(by_value='like_count',n=10,aggFunk=\"sum\"):\n",
    "    analysis.most_popular_users(df, by_value=by_value,n=n,plot=True,DataName=False,aggFunk=aggFunk)\n",
    "\n"
   ]
  },
  {
   "cell_type": "code",
   "execution_count": 13,
   "id": "8da6394b",
   "metadata": {},
   "outputs": [
    {
     "data": {
      "application/vnd.jupyter.widget-view+json": {
       "model_id": "484f734a5b964e3a8e295ff53ce68471",
       "version_major": 2,
       "version_minor": 0
      },
      "text/plain": [
       "interactive(children=(Dropdown(description='column', index=1, options=('hashtags', 'NoStopwords', 'language', …"
      ]
     },
     "metadata": {},
     "output_type": "display_data"
    }
   ],
   "source": [
    "@interact(column=[\"hashtags\",\"NoStopwords\",\"language\",\"urls\"],n=(3,100))\n",
    "def mostCommon(column=\"NoStopwords\",n=5): \n",
    "    analysis.mostCommon(df,column,n) "
   ]
  },
  {
   "cell_type": "markdown",
   "id": "aa2a0363",
   "metadata": {},
   "source": [
    "# Words in Context"
   ]
  },
  {
   "cell_type": "code",
   "execution_count": 14,
   "id": "7990b899",
   "metadata": {},
   "outputs": [
    {
     "data": {
      "application/vnd.jupyter.widget-view+json": {
       "model_id": "df22120cd73848629314d0c5658fb3ca",
       "version_major": 2,
       "version_minor": 0
      },
      "text/plain": [
       "interactive(children=(Dropdown(description='column', options=('hashtags', 'NoStopwords'), value='hashtags'), I…"
      ]
     },
     "metadata": {},
     "output_type": "display_data"
    },
    {
     "name": "stdout",
     "output_type": "stream",
     "text": [
      "see the network: The_network.html\n"
     ]
    }
   ],
   "source": [
    "@interact(column=[\"hashtags\",\"NoStopwords\"],Nodes=(3,300),minDegree=(1,10),removeIsolates=True,only_largest_component=True)\n",
    "def NetworkAnalysis(column=\"hashtags\",Nodes=20,minDegree=5,removeIsolates=True,only_largest_component=True):\n",
    "    G=analysis.Word_NetworkGen(df,n=Nodes,column=column)\n",
    "    G=analysis.CleanGraph(G,removeIsolates=removeIsolates,minDegree=minDegree,only_largest_component=only_largest_component)\n",
    "    analysis.writeNetworkHTML(G,view=False)\n",
    "print(\"see the network: The_network.html\")"
   ]
  },
  {
   "cell_type": "code",
   "execution_count": 15,
   "id": "f26f541e",
   "metadata": {},
   "outputs": [
    {
     "data": {
      "application/vnd.jupyter.widget-view+json": {
       "model_id": "3cd10ae24a754597904b39ef98baf7b0",
       "version_major": 2,
       "version_minor": 0
      },
      "text/plain": [
       "interactive(children=(Dropdown(description='column', options=('text', 'pure_text', 'NoStopwords'), value='text…"
      ]
     },
     "metadata": {},
     "output_type": "display_data"
    }
   ],
   "source": [
    "#This cell allows to read the words before and after a search_word. You can change the searchword & the size of the context.\n",
    "@interact(search_word=\"sustainable\",words_before=(0,10),words_after=(0,10))\n",
    "def text_context(column=[\"text\",\"pure_text\",\"NoStopwords\"],search_word=\"sustainable\",words_before=1,words_after=1):\n",
    "    df[column].dropna().apply(analysis.Keyword_context,search_word=search_word.lower(),context=(words_before,words_after))\n",
    "\n",
    "    \n"
   ]
  },
  {
   "cell_type": "markdown",
   "id": "03e896e0",
   "metadata": {},
   "source": [
    "# Image Analysis"
   ]
  },
  {
   "cell_type": "code",
   "execution_count": 17,
   "id": "88bc889b",
   "metadata": {},
   "outputs": [
    {
     "name": "stdout",
     "output_type": "stream",
     "text": [
      "https://pbs.twimg.com/media/FsbHoABacAAqvtt.jpg, https://pbs.twimg.com/media/FsbBitEXsAAuCxk.jpg, https://pbs.twimg.com/media/Fsa-MhBWIAAyTva.jpg, https://pbs.twimg.com/media/Fsa6LWoaQAIhSU5.jpg, https://pbs.twimg.com/media/FsatLtnXwAccK5T.jpg, https://pbs.twimg.com/media/FsaivfHaUAAkCzB.jpg, https://pbs.twimg.com/media/FsagqjuaUAAErN_.png, https://pbs.twimg.com/media/FsacRBSXwAQwBg5.jpg, https://pbs.twimg.com/media/FsaVYbPWcAMs7_X.jpg, https://pbs.twimg.com/media/FsaPCQ-WYAEbmAu.png, https://pbs.twimg.com/media/FsaIxyJWAAgcs-s.jpg, https://pbs.twimg.com/media/FsaHYhbWwAATjtH.jpg, https://pbs.twimg.com/media/FsaGHN_WAAQHnG8.jpg, https://pbs.twimg.com/media/FsaHXnyWcAASlUQ.jpg, https://pbs.twimg.com/media/FsaHYOZWABolsle.jpg, https://pbs.twimg.com/media/FsZ-7QpWAA4tyq6.jpg, done.\n"
     ]
    }
   ],
   "source": [
    "from myTwitterLibrary import imageScroll\n",
    "imgs=df[df.media_url.apply(lambda x:len(x)>0)][:15]\n",
    "imgs.media_url.apply(imageScroll.downloadImages)\n",
    "print(\"done.\")"
   ]
  },
  {
   "cell_type": "code",
   "execution_count": 18,
   "id": "53b02a38",
   "metadata": {},
   "outputs": [
    {
     "data": {
      "application/vnd.jupyter.widget-view+json": {
       "model_id": "440891d2a3134414ad0acfe50c1e2d29",
       "version_major": 2,
       "version_minor": 0
      },
      "text/plain": [
       "interactive(children=(IntSlider(value=0, description='n', max=50), Output()), _dom_classes=('widget-interact',…"
      ]
     },
     "metadata": {},
     "output_type": "display_data"
    }
   ],
   "source": [
    "from IPython.display import Image\n",
    "\n",
    "@interact(n=(0,50))\n",
    "def scrollImages(n=0):\n",
    "    \n",
    "    filename=imageScroll.displayImage(imgs,n,targetFolder=\"IMG_Download/\")\n",
    "    \n",
    "    return Image(filename)"
   ]
  },
  {
   "cell_type": "markdown",
   "id": "70baf37e",
   "metadata": {},
   "source": [
    "# Timerow analysis"
   ]
  },
  {
   "cell_type": "code",
   "execution_count": 19,
   "id": "777d9052",
   "metadata": {},
   "outputs": [
    {
     "data": {
      "application/vnd.jupyter.widget-view+json": {
       "model_id": "46ea8c3fe4de4176b8d51bd955462011",
       "version_major": 2,
       "version_minor": 0
      },
      "text/plain": [
       "interactive(children=(Dropdown(description='column', options=('count', 'subjectivity', 'polarity'), value='cou…"
      ]
     },
     "metadata": {},
     "output_type": "display_data"
    }
   ],
   "source": [
    "@interact(column=[\"count\",\"subjectivity\",\"polarity\"],normalize=False,resample=[\"1H\",\"12H\",\"1D\",\"2D\",\"3D\",\"1W\",\"2W\",\"M\",\"Q\"])   \n",
    "def TweetHist(column=\"count\",normalize=False,resample=\"1H\",start='2010-01-14',end='2023-05-06'):\n",
    "    analysis.TweetsHist(df,name=column, resample=resample,start=start,end=end, normalize=normalize)"
   ]
  },
  {
   "cell_type": "markdown",
   "id": "e4397d03",
   "metadata": {},
   "source": [
    "# Timerow Analysis 2: users, hashtags, and words"
   ]
  },
  {
   "cell_type": "code",
   "execution_count": 20,
   "id": "00426438",
   "metadata": {},
   "outputs": [
    {
     "data": {
      "application/vnd.jupyter.widget-view+json": {
       "model_id": "a4eecdb4e1074fbf966105bb89d0eef2",
       "version_major": 2,
       "version_minor": 0
      },
      "text/plain": [
       "interactive(children=(IntSlider(value=3, description='n', max=20, min=2), Dropdown(description='name', options…"
      ]
     },
     "metadata": {},
     "output_type": "display_data"
    }
   ],
   "source": [
    "@interact(n=(2,20),name=[\"username\",\"name\",\"hashtags\",\"NoStopwords\"],resample=[\"1H\",\"12H\",\"1D\",\"2D\",\"3D\",\"1W\",\"2W\",\"M\",\"Q\"])\n",
    "def userTimeseries(n=3,name=\"username\",resample=\"D\",start=\"2010-01-01\",end=\"2023-30-20\",stacked=True):\n",
    "    analysis.userTimeseries(df,name=name,n=n,resample=resample,start=start,end=end,stacked=stacked)"
   ]
  },
  {
   "cell_type": "markdown",
   "id": "48130715",
   "metadata": {},
   "source": [
    "# Social Networks: Graph Analysis"
   ]
  },
  {
   "cell_type": "code",
   "execution_count": 21,
   "id": "53eb673f",
   "metadata": {},
   "outputs": [
    {
     "data": {
      "application/vnd.jupyter.widget-view+json": {
       "model_id": "5dad16b091b340a4a56973ad40927e5e",
       "version_major": 2,
       "version_minor": 0
      },
      "text/plain": [
       "interactive(children=(IntSlider(value=30, description='minDegree', max=50, min=1), Checkbox(value=True, descri…"
      ]
     },
     "metadata": {},
     "output_type": "display_data"
    }
   ],
   "source": [
    "@interact(minDegree=(1,50),removeIsolates=True,only_largest_component=True)\n",
    "def NetworkAnalysis(minDegree=30,removeIsolates=True,only_largest_component=True):\n",
    "    G=analysis.NetworkGen(df)\n",
    "    G=analysis.CleanGraph(G,removeIsolates=removeIsolates,minDegree=minDegree,only_largest_component=only_largest_component)\n",
    "    analysis.writeNetworkHTML(G,view=True)"
   ]
  },
  {
   "cell_type": "code",
   "execution_count": null,
   "id": "f85f7b71",
   "metadata": {},
   "outputs": [],
   "source": []
  }
 ],
 "metadata": {
  "kernelspec": {
   "display_name": "Python 3 (ipykernel)",
   "language": "python",
   "name": "python3"
  },
  "language_info": {
   "codemirror_mode": {
    "name": "ipython",
    "version": 3
   },
   "file_extension": ".py",
   "mimetype": "text/x-python",
   "name": "python",
   "nbconvert_exporter": "python",
   "pygments_lexer": "ipython3",
   "version": "3.9.7"
  }
 },
 "nbformat": 4,
 "nbformat_minor": 5
}
